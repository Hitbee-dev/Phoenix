{
 "cells": [
  {
   "cell_type": "code",
   "execution_count": 1,
   "id": "2670365d",
   "metadata": {},
   "outputs": [
    {
     "name": "stderr",
     "output_type": "stream",
     "text": [
      "The tokenizer class you load from this checkpoint is not the same type as the class this function is called from. It may result in unexpected tokenization. \n",
      "The tokenizer class you load from this checkpoint is 'BartTokenizer'. \n",
      "The class this function is called from is 'PreTrainedTokenizerFast'.\n"
     ]
    },
    {
     "name": "stdout",
     "output_type": "stream",
     "text": [
      "1번째 요약\n",
      "1024\n",
      "요약시간: 1.65\n",
      "2번째 요약\n",
      "2048\n",
      "요약시간: 2.05\n",
      "3번째 요약\n",
      "2048\n",
      "요약시간: 2.01\n",
      "4번째 요약\n",
      "2048\n",
      "요약시간: 2.93\n",
      "5번째 요약\n",
      "1024\n",
      "요약시간: 1.38\n",
      "6번째 요약\n",
      "2048\n",
      "요약시간: 2.67\n",
      "7번째 요약\n",
      "1024\n",
      "요약시간: 3.29\n",
      "8번째 요약\n",
      "1024\n",
      "요약시간: 1.76\n",
      "9번째 요약\n",
      "2048\n",
      "요약시간: 2.52\n",
      "10번째 요약\n",
      "3000\n",
      "요약시간: 5.6\n"
     ]
    }
   ],
   "source": [
    "# python 3.9\n",
    "import os\n",
    "import pandas as pd\n",
    "import time\n",
    "from datetime import date, timedelta\n",
    "from models import *\n",
    "\n",
    "# 요약 모델 load\n",
    "summarizer = Summarizer_with_KoBart()\n",
    "\n",
    "# 읽어올 엑셀 파일 지정\n",
    "filename = f'./static/{date.today() - timedelta(1)}.xlsx'\n",
    "\n",
    "# 엑셀 파일 읽어 오기\n",
    "df = pd.read_excel(filename, engine='openpyxl')\n",
    "\n",
    "\n",
    "\n",
    "\n",
    "summarized = []\n",
    "for i, text in enumerate(df['본문']):\n",
    "    text_len = len(text)\n",
    "    if(text_len) > 3000:\n",
    "        text = text[:int(text_len/2)]\n",
    "        \n",
    "    print(f\"{i+1}번째 요약\")\n",
    "    start = time.time()\n",
    "    result = summarizer.generate(text, input_size=1024)\n",
    "    summarized.append(result)\n",
    "    now = time.time()-start\n",
    "    print('요약시간:', round(now, 2))\n",
    "    \n",
    "df['요약문'] = summarized"
   ]
  },
  {
   "cell_type": "code",
   "execution_count": 17,
   "id": "ab510fc4",
   "metadata": {},
   "outputs": [
    {
     "data": {
      "text/plain": [
       "str"
      ]
     },
     "execution_count": 17,
     "metadata": {},
     "output_type": "execute_result"
    }
   ],
   "source": [
    "type(df.iloc[0][5])"
   ]
  },
  {
   "cell_type": "code",
   "execution_count": 25,
   "id": "063098cf",
   "metadata": {},
   "outputs": [],
   "source": [
    "import pymysql\n",
    "\n",
    "conn = pymysql.connect(host='localhost', user='root', password='root',\n",
    "                       db='news', charset='utf8mb4')\n",
    "\n",
    "curs = conn.cursor(pymysql.cursors.DictCursor)\n",
    "\n",
    "for i in range(len(df)):\n",
    "    sql = \"insert into `news`.summarized (발행일자, 분야, 타이틀, 링크, 본문, 요약문) values (%s, %s, %s, %s, %s, %s)\"\n",
    "    curs.execute(sql, (df.iloc[i][0], df.iloc[i][1], df.iloc[i][2], df.iloc[i][3], df.iloc[i][4], df.iloc[i][5]))\n",
    "\n",
    "# 데이타 commit\n",
    "conn.commit()\n",
    "\n",
    "# Connection 닫기\n",
    "conn.close()"
   ]
  },
  {
   "cell_type": "code",
   "execution_count": 30,
   "id": "ab03df38",
   "metadata": {},
   "outputs": [
    {
     "data": {
      "text/plain": [
       "str"
      ]
     },
     "execution_count": 30,
     "metadata": {},
     "output_type": "execute_result"
    }
   ],
   "source": [
    "from datetime import date, timedelta\n",
    "\n",
    "a = str(date.today() - timedelta(1))\n",
    "type(a)"
   ]
  },
  {
   "cell_type": "code",
   "execution_count": null,
   "id": "e9c3155c",
   "metadata": {},
   "outputs": [],
   "source": []
  }
 ],
 "metadata": {
  "kernelspec": {
   "display_name": "Python 3 (ipykernel)",
   "language": "python",
   "name": "python3"
  },
  "language_info": {
   "codemirror_mode": {
    "name": "ipython",
    "version": 3
   },
   "file_extension": ".py",
   "mimetype": "text/x-python",
   "name": "python",
   "nbconvert_exporter": "python",
   "pygments_lexer": "ipython3",
   "version": "3.9.12"
  }
 },
 "nbformat": 4,
 "nbformat_minor": 5
}
