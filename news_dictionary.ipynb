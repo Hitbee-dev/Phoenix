{
 "cells": [
  {
   "cell_type": "code",
   "execution_count": 2,
   "metadata": {},
   "outputs": [],
   "source": [
    "import xlrd\n",
    "import sys\n",
    "import os\n",
    "import pandas\n",
    "from pandas import DataFrame"
   ]
  },
  {
   "cell_type": "code",
   "execution_count": 3,
   "metadata": {},
   "outputs": [
    {
     "name": "stdout",
     "output_type": "stream",
     "text": [
      "Columns\n",
      "Index(['순번', '주제', '용어', '설명'], dtype='object')\n"
     ]
    }
   ],
   "source": [
    "df = pandas.read_excel(\"dic.xls\")\n",
    "print(\"Columns\")\n",
    "print(df.columns)"
   ]
  },
  {
   "cell_type": "code",
   "execution_count": 4,
   "metadata": {},
   "outputs": [
    {
     "data": {
      "text/html": [
       "<div>\n",
       "<style scoped>\n",
       "    .dataframe tbody tr th:only-of-type {\n",
       "        vertical-align: middle;\n",
       "    }\n",
       "\n",
       "    .dataframe tbody tr th {\n",
       "        vertical-align: top;\n",
       "    }\n",
       "\n",
       "    .dataframe thead th {\n",
       "        text-align: right;\n",
       "    }\n",
       "</style>\n",
       "<table border=\"1\" class=\"dataframe\">\n",
       "  <thead>\n",
       "    <tr style=\"text-align: right;\">\n",
       "      <th></th>\n",
       "      <th>순번</th>\n",
       "      <th>주제</th>\n",
       "      <th>용어</th>\n",
       "      <th>설명</th>\n",
       "    </tr>\n",
       "  </thead>\n",
       "  <tbody>\n",
       "    <tr>\n",
       "      <th>0</th>\n",
       "      <td>1</td>\n",
       "      <td>사회</td>\n",
       "      <td>0.5인 가구</td>\n",
       "      <td>싱글족 가운데 두 곳 이상에 거처를 두거나 잦은 여행과 출장 등으로 오랫동안 집을 ...</td>\n",
       "    </tr>\n",
       "    <tr>\n",
       "      <th>1</th>\n",
       "      <td>2</td>\n",
       "      <td>경영</td>\n",
       "      <td>1인 창조기업</td>\n",
       "      <td>개인이 사장이면서 직원인 기업을 의미한다. 자신이 가진 '지식, 경험, 기술' 등을...</td>\n",
       "    </tr>\n",
       "    <tr>\n",
       "      <th>2</th>\n",
       "      <td>3</td>\n",
       "      <td>경제</td>\n",
       "      <td>1인당 국민소득</td>\n",
       "      <td>국민소득을 총국민 수로 나눈 값. 해당 국가의 소득 수준을 보여주는 가장 대표적인 ...</td>\n",
       "    </tr>\n",
       "    <tr>\n",
       "      <th>3</th>\n",
       "      <td>4</td>\n",
       "      <td>과학</td>\n",
       "      <td>20-20-20 계획</td>\n",
       "      <td>\\t유럽연합(EU)이 2020년까지 온실가스 20% 감축, 에너지효율 20% 개선,...</td>\n",
       "    </tr>\n",
       "    <tr>\n",
       "      <th>4</th>\n",
       "      <td>5</td>\n",
       "      <td>금융</td>\n",
       "      <td>2차 시장(Secondary Market)</td>\n",
       "      <td>2차 시장은 처음 발행된 증권, 채권 등이 거래되는 발행시장과 구분되며, 이미 발행...</td>\n",
       "    </tr>\n",
       "  </tbody>\n",
       "</table>\n",
       "</div>"
      ],
      "text/plain": [
       "   순번  주제                       용어  \\\n",
       "0   1  사회                  0.5인 가구   \n",
       "1   2  경영                  1인 창조기업   \n",
       "2   3  경제                 1인당 국민소득   \n",
       "3   4  과학              20-20-20 계획   \n",
       "4   5  금융  2차 시장(Secondary Market)   \n",
       "\n",
       "                                                  설명  \n",
       "0  싱글족 가운데 두 곳 이상에 거처를 두거나 잦은 여행과 출장 등으로 오랫동안 집을 ...  \n",
       "1  개인이 사장이면서 직원인 기업을 의미한다. 자신이 가진 '지식, 경험, 기술' 등을...  \n",
       "2  국민소득을 총국민 수로 나눈 값. 해당 국가의 소득 수준을 보여주는 가장 대표적인 ...  \n",
       "3  \\t유럽연합(EU)이 2020년까지 온실가스 20% 감축, 에너지효율 20% 개선,...  \n",
       "4  2차 시장은 처음 발행된 증권, 채권 등이 거래되는 발행시장과 구분되며, 이미 발행...  "
      ]
     },
     "execution_count": 4,
     "metadata": {},
     "output_type": "execute_result"
    }
   ],
   "source": [
    "df.head()"
   ]
  },
  {
   "cell_type": "markdown",
   "metadata": {},
   "source": [
    "#### 뽑은 시사 단어들 의미 입력"
   ]
  },
  {
   "cell_type": "code",
   "execution_count": 5,
   "metadata": {},
   "outputs": [],
   "source": [
    "from bs4 import BeautifulSoup\n",
    "import requests\n",
    "from selenium import webdriver\n",
    "import selenium\n",
    "from selenium.webdriver.common.keys import Keys\n",
    "from selenium.webdriver.chrome.service import Service\n",
    "from selenium.webdriver.common.by import By\n",
    "from webdriver_manager.chrome import ChromeDriverManager\n",
    "from datetime import datetime, timedelta\n",
    "from pandas import DataFrame\n",
    "import time\n",
    "from openpyxl.workbook import Workbook\n",
    "from selenium.webdriver.common.by import By"
   ]
  },
  {
   "cell_type": "code",
   "execution_count": 6,
   "metadata": {},
   "outputs": [],
   "source": [
    "target_txt = \"\"\n",
    "# target_txt = sys.stdin.readline()"
   ]
  },
  {
   "cell_type": "code",
   "execution_count": 7,
   "metadata": {},
   "outputs": [
    {
     "data": {
      "text/plain": [
       "0                    0.5인 가구\n",
       "1                    1인 창조기업\n",
       "2                   1인당 국민소득\n",
       "3                20-20-20 계획\n",
       "4    2차 시장(Secondary Market)\n",
       "Name: 용어, dtype: object"
      ]
     },
     "execution_count": 7,
     "metadata": {},
     "output_type": "execute_result"
    }
   ],
   "source": [
    "df.iloc[:,2].head()"
   ]
  },
  {
   "cell_type": "code",
   "execution_count": 8,
   "metadata": {},
   "outputs": [
    {
     "data": {
      "text/plain": [
       "'0.5인 가구'"
      ]
     },
     "execution_count": 8,
     "metadata": {},
     "output_type": "execute_result"
    }
   ],
   "source": [
    "df.iloc[0,2]"
   ]
  },
  {
   "cell_type": "code",
   "execution_count": 9,
   "metadata": {},
   "outputs": [],
   "source": [
    "sample_txt = '국민의힘은 당장 내년도 종부세 부담 경감을 위한 시일이 촉박하다며 시급한 법안 처리를 촉구했지만, 더불어민주당은 부자 감세를 지적하면서 추가 논의 주장으로 맞섰다. 박대출 위원장을 비롯한 국민의힘 소속 기재위원들은 이날 오후 기재위 전체회의를 열어 종합부동산세법 및 조세특례제한법 개정안을 상정했다. 해당 법안은 올해에 한해 1세대 1주택자의 종부세 공제 금액을 11억원에서 14억원으로 올리고, 일시적 2주택 등은 주택 수 계산에서 제외하며 고령 및 장기보유 1주택자는 종부세 납부를 연기하는 등 내용이다. 그러나 민주당 기재위원들이 불참하면서 반쪽짜리가 된 이번 회의에서는 법안 제안 설명과 대체 토론만 진행됐을 뿐 법안 처리는 불발됐다. 현재 기재위 26명 중 국민의힘 소속 의원은 10명뿐이라 단독 처리가 불가능한 상황이다.'"
   ]
  },
  {
   "cell_type": "code",
   "execution_count": 13,
   "metadata": {},
   "outputs": [
    {
     "name": "stdout",
     "output_type": "stream",
     "text": [
      "종합부동산세 :  None\n"
     ]
    }
   ],
   "source": [
    "def crawling_dic(str_dic):\n",
    "    \n",
    "    service = Service(executable_path=ChromeDriverManager().install())\n",
    "    browser = webdriver.Chrome(service=service)\n",
    "\n",
    "    news_url = 'https://dic.daum.net/search.do?q={0}'.format(str_dic)\n",
    "\n",
    "    browser.get(news_url)\n",
    "\n",
    "    table = browser.find_element(By.XPATH,'//div[@class=\"cleanword_type kokk_type\"]')\n",
    "    li_list = table.find_elements(By.XPATH,'.//span[@class=\"txt_search\"]')\n",
    "    \n",
    "\n",
    "\n",
    "news_dict = {}\n",
    "\n",
    "\n",
    "for idx, i in enumerate(df.iloc[:, 2]):\n",
    "    if i in sample_txt:\n",
    "        print(i)\n",
    "        news_dic = crawling_dic(i)\n",
    "        print(i, ': ', news_dic)\n",
    "        news_dict[idx] = {'단어': i,\n",
    "                        '의미': news_dic}"
   ]
  },
  {
   "cell_type": "markdown",
   "metadata": {},
   "source": [
    "#### DataFrame 저장"
   ]
  },
  {
   "cell_type": "code",
   "execution_count": 69,
   "metadata": {},
   "outputs": [
    {
     "data": {
      "text/html": [
       "<div>\n",
       "<style scoped>\n",
       "    .dataframe tbody tr th:only-of-type {\n",
       "        vertical-align: middle;\n",
       "    }\n",
       "\n",
       "    .dataframe tbody tr th {\n",
       "        vertical-align: top;\n",
       "    }\n",
       "\n",
       "    .dataframe thead th {\n",
       "        text-align: right;\n",
       "    }\n",
       "</style>\n",
       "<table border=\"1\" class=\"dataframe\">\n",
       "  <thead>\n",
       "    <tr style=\"text-align: right;\">\n",
       "      <th></th>\n",
       "      <th>단어</th>\n",
       "      <th>의미</th>\n",
       "    </tr>\n",
       "  </thead>\n",
       "  <tbody>\n",
       "    <tr>\n",
       "      <th>2335</th>\n",
       "      <td>종합부동산세</td>\n",
       "      <td>종합부동산세법은 고액 부동산 보유자에 대하여 부담능력에 비례하는 보유세를 부과하여 ...</td>\n",
       "    </tr>\n",
       "  </tbody>\n",
       "</table>\n",
       "</div>"
      ],
      "text/plain": [
       "          단어                                                 의미\n",
       "2335  종합부동산세  종합부동산세법은 고액 부동산 보유자에 대하여 부담능력에 비례하는 보유세를 부과하여 ..."
      ]
     },
     "execution_count": 69,
     "metadata": {},
     "output_type": "execute_result"
    }
   ],
   "source": [
    "### DataFrame 형태로 변환 ###\n",
    "\n",
    "news_dic_df = DataFrame(news_dict).T\n",
    "news_dic_df"
   ]
  },
  {
   "cell_type": "code",
   "execution_count": null,
   "metadata": {},
   "outputs": [],
   "source": []
  }
 ],
 "metadata": {
  "kernelspec": {
   "display_name": "Python 3.9.13 64-bit",
   "language": "python",
   "name": "python3"
  },
  "language_info": {
   "codemirror_mode": {
    "name": "ipython",
    "version": 3
   },
   "file_extension": ".py",
   "mimetype": "text/x-python",
   "name": "python",
   "nbconvert_exporter": "python",
   "pygments_lexer": "ipython3",
   "version": "3.9.13"
  },
  "orig_nbformat": 4,
  "vscode": {
   "interpreter": {
    "hash": "c8d141e768b5e0bcaa8c20215d88d6d048813570bbe9856b9caec2a31fd5c4cf"
   }
  }
 },
 "nbformat": 4,
 "nbformat_minor": 2
}
