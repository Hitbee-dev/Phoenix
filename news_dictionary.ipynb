{
 "cells": [
  {
   "cell_type": "code",
   "execution_count": 1,
   "metadata": {},
   "outputs": [],
   "source": [
    "import xlrd\n",
    "import sys\n",
    "import os\n",
    "import pandas\n",
    "from pandas import DataFrame"
   ]
  },
  {
   "cell_type": "code",
<<<<<<< HEAD
   "execution_count": 2,
=======
   "execution_count": 4,
>>>>>>> 548974e7fdbe8e1ed83f2cc3e5a1d0f76e6afe2f
   "metadata": {},
   "outputs": [
    {
     "name": "stdout",
     "output_type": "stream",
     "text": [
      "Columns\n",
      "Index(['순번', '주제', '용어'], dtype='object')\n"
     ]
    }
   ],
   "source": [
    "df = pandas.read_excel(\"static/용어.xlsx\")\n",
    "print(\"Columns\")\n",
    "print(df.columns)"
   ]
  },
  {
   "cell_type": "code",
<<<<<<< HEAD
   "execution_count": 3,
=======
   "execution_count": 5,
>>>>>>> 548974e7fdbe8e1ed83f2cc3e5a1d0f76e6afe2f
   "metadata": {},
   "outputs": [
    {
     "data": {
      "text/html": [
       "<div>\n",
       "<style scoped>\n",
       "    .dataframe tbody tr th:only-of-type {\n",
       "        vertical-align: middle;\n",
       "    }\n",
       "\n",
       "    .dataframe tbody tr th {\n",
       "        vertical-align: top;\n",
       "    }\n",
       "\n",
       "    .dataframe thead th {\n",
       "        text-align: right;\n",
       "    }\n",
       "</style>\n",
       "<table border=\"1\" class=\"dataframe\">\n",
       "  <thead>\n",
       "    <tr style=\"text-align: right;\">\n",
       "      <th></th>\n",
       "      <th>순번</th>\n",
       "      <th>주제</th>\n",
       "      <th>용어</th>\n",
       "    </tr>\n",
       "  </thead>\n",
       "  <tbody>\n",
       "    <tr>\n",
       "      <th>0</th>\n",
       "      <td>1</td>\n",
       "      <td>사회</td>\n",
       "      <td>0.5인 가구</td>\n",
       "    </tr>\n",
       "    <tr>\n",
       "      <th>1</th>\n",
       "      <td>2</td>\n",
       "      <td>경영</td>\n",
       "      <td>1인 창조기업</td>\n",
       "    </tr>\n",
       "    <tr>\n",
       "      <th>2</th>\n",
       "      <td>3</td>\n",
       "      <td>경제</td>\n",
       "      <td>1인당 국민소득</td>\n",
       "    </tr>\n",
       "    <tr>\n",
       "      <th>3</th>\n",
       "      <td>4</td>\n",
       "      <td>과학</td>\n",
       "      <td>20-20-20 계획</td>\n",
       "    </tr>\n",
       "    <tr>\n",
       "      <th>4</th>\n",
       "      <td>5</td>\n",
       "      <td>금융</td>\n",
       "      <td>2차 시장</td>\n",
       "    </tr>\n",
       "  </tbody>\n",
       "</table>\n",
       "</div>"
      ],
      "text/plain": [
       "   순번  주제           용어\n",
       "0   1  사회      0.5인 가구\n",
       "1   2  경영      1인 창조기업\n",
       "2   3  경제     1인당 국민소득\n",
       "3   4  과학  20-20-20 계획\n",
       "4   5  금융        2차 시장"
      ]
     },
<<<<<<< HEAD
     "execution_count": 3,
=======
     "execution_count": 5,
>>>>>>> 548974e7fdbe8e1ed83f2cc3e5a1d0f76e6afe2f
     "metadata": {},
     "output_type": "execute_result"
    }
   ],
   "source": [
    "df.head()"
   ]
  },
  {
   "cell_type": "markdown",
   "metadata": {},
   "source": [
    "#### 뽑은 시사 단어들 의미 입력"
   ]
  },
  {
   "cell_type": "code",
<<<<<<< HEAD
   "execution_count": 4,
=======
   "execution_count": 6,
>>>>>>> 548974e7fdbe8e1ed83f2cc3e5a1d0f76e6afe2f
   "metadata": {},
   "outputs": [],
   "source": [
    "from bs4 import BeautifulSoup\n",
    "import requests\n",
    "from selenium import webdriver\n",
    "import selenium\n",
    "from selenium.webdriver.common.keys import Keys\n",
    "from selenium.webdriver.chrome.service import Service\n",
    "from selenium.webdriver.common.by import By\n",
    "from webdriver_manager.chrome import ChromeDriverManager\n",
    "from datetime import datetime, timedelta\n",
    "from pandas import DataFrame\n",
    "import time\n",
    "from openpyxl.workbook import Workbook\n",
    "from selenium.webdriver.common.by import By"
   ]
  },
  {
   "cell_type": "code",
<<<<<<< HEAD
   "execution_count": 5,
=======
   "execution_count": 7,
>>>>>>> 548974e7fdbe8e1ed83f2cc3e5a1d0f76e6afe2f
   "metadata": {},
   "outputs": [],
   "source": [
    "target_txt = \"\"\n",
    "# target_txt = sys.stdin.readline()"
   ]
  },
  {
   "cell_type": "code",
<<<<<<< HEAD
   "execution_count": 6,
=======
   "execution_count": 8,
>>>>>>> 548974e7fdbe8e1ed83f2cc3e5a1d0f76e6afe2f
   "metadata": {},
   "outputs": [
    {
     "data": {
      "text/plain": [
       "0        0.5인 가구\n",
       "1        1인 창조기업\n",
       "2       1인당 국민소득\n",
       "3    20-20-20 계획\n",
       "4          2차 시장\n",
       "Name: 용어, dtype: object"
      ]
     },
<<<<<<< HEAD
     "execution_count": 6,
=======
     "execution_count": 8,
>>>>>>> 548974e7fdbe8e1ed83f2cc3e5a1d0f76e6afe2f
     "metadata": {},
     "output_type": "execute_result"
    }
   ],
   "source": [
    "df.iloc[:,2].head()"
   ]
  },
  {
   "cell_type": "code",
   "execution_count": 7,
   "metadata": {},
   "outputs": [
    {
     "data": {
      "text/plain": [
       "'0.5인 가구'"
      ]
     },
     "execution_count": 7,
     "metadata": {},
     "output_type": "execute_result"
    }
   ],
   "source": [
    "df.iloc[0,2]"
   ]
  },
  {
   "cell_type": "code",
<<<<<<< HEAD
   "execution_count": 8,
=======
   "execution_count": 27,
>>>>>>> 548974e7fdbe8e1ed83f2cc3e5a1d0f76e6afe2f
   "metadata": {},
   "outputs": [],
   "source": [
    "sample_txt = '국민의힘은 당장 내0.5인 가구년도 종부세 부담 경감을 위한 시일이 촉박하다며 2차 시장 시급한 법안 처리를 지방교육재정교부금촉구했지만, 더불어민주당은 부자 감세를 지적하면서 추가 논의 주장으로 맞섰다. 박대출 위원장을 비롯한 국민의힘 소속 기재위원들은 이날 오후 기재위 전체회의를 열어 종합부동산세법 및 조세특례제한법 개정안을 상정했다. 해당 법안은 올해에 한해 1세대 1주택자의 종부세 공제 금액을 11억원에서 14억원으로 올리고, 일시적 2주택 등은 주택 수 계산에서 제외하며 고령 및 장기보유 1주택자는 종부세 납부를 연기하는 등 내용이다. 그러나 민주당 기재위원들이 불참하면서 반쪽짜리가 된 이번 회의에서는 법안 제안 설명과 대체 토론만 진행됐을 뿐 법안 처리는 불발됐다. 현재 기재위 26명 중 국민의힘 소속 의원은 10명뿐이라 단독 처리가 불가능한 상황이다.'"
   ]
  },
  {
   "cell_type": "code",
<<<<<<< HEAD
   "execution_count": 9,
   "metadata": {},
   "outputs": [],
=======
   "execution_count": 28,
   "metadata": {},
   "outputs": [
    {
     "name": "stdout",
     "output_type": "stream",
     "text": [
      "0.5인 가구\n",
      "2차 시장\n",
      "교부금\n",
      "종합부동산세\n",
      "지방교육재정교부금\n"
     ]
    }
   ],
>>>>>>> 548974e7fdbe8e1ed83f2cc3e5a1d0f76e6afe2f
   "source": [
    "sleep_sec=0.5\n",
    "\n",
    "def crawling_dic(str_dic):\n",
    "\n",
    "    service = Service(executable_path=ChromeDriverManager().install())\n",
    "    browser = webdriver.Chrome(service=service)\n",
    "\n",
    "    news_url = 'https://dic.daum.net/search.do?q={0}&dic=kor'.format(str_dic)\n",
    "\n",
    "    browser.get(news_url)\n",
    "    time.sleep(sleep_sec)\n",
<<<<<<< HEAD
    "\n",
    "    table = browser.find_element(By.XPATH,'//div[@class=\"cleanword_type kokk_type\"]')\n",
    "    dic = table.find_element(By.XPATH,'.//span[@class=\"txt_search\"]').text\n",
    "\n",
    "    browser.close()\n",
=======
    "    \n",
    "    try:\n",
    "        table = browser.find_element(By.XPATH,'//div[@class=\"cleanword_type kokk_type\"]')\n",
    "        dic = table.find_element(By.XPATH,'.//span[@class=\"txt_search\"]').text\n",
    "        \n",
    "    except:\n",
    "        table = browser.find_element(By.XPATH,'//ul[@class=\"list_mean\"]')\n",
    "        dic = table.find_element(By.XPATH,'.//span[@class=\"txt_mean\"]').text\n",
>>>>>>> 548974e7fdbe8e1ed83f2cc3e5a1d0f76e6afe2f
    "    \n",
    "    return dic\n",
    "    \n",
    "news_dict = {}\n",
    "\n",
    "\n",
    "for idx, i in enumerate(df.iloc[:, 2]):\n",
    "    if i in sample_txt:\n",
    "        print(i)\n",
    "        news_dic = crawling_dic(i)\n",
    "\n",
    "        news_dict[idx] = {'단어': i,\n",
    "                        '의미': news_dic}"
   ]
  },
  {
   "cell_type": "markdown",
   "metadata": {},
   "source": [
    "#### DataFrame 저장"
   ]
  },
  {
   "cell_type": "code",
<<<<<<< HEAD
   "execution_count": 10,
   "metadata": {},
   "outputs": [
    {
     "data": {
      "text/html": [
       "<div>\n",
       "<style scoped>\n",
       "    .dataframe tbody tr th:only-of-type {\n",
       "        vertical-align: middle;\n",
       "    }\n",
       "\n",
       "    .dataframe tbody tr th {\n",
       "        vertical-align: top;\n",
       "    }\n",
       "\n",
       "    .dataframe thead th {\n",
       "        text-align: right;\n",
       "    }\n",
       "</style>\n",
       "<table border=\"1\" class=\"dataframe\">\n",
       "  <thead>\n",
       "    <tr style=\"text-align: right;\">\n",
       "      <th></th>\n",
       "      <th>단어</th>\n",
       "      <th>의미</th>\n",
       "    </tr>\n",
       "  </thead>\n",
       "  <tbody>\n",
       "    <tr>\n",
       "      <th>2335</th>\n",
       "      <td>종합부동산세</td>\n",
       "      <td>재산세의 하나</td>\n",
       "    </tr>\n",
       "  </tbody>\n",
       "</table>\n",
       "</div>"
      ],
      "text/plain": [
       "          단어       의미\n",
       "2335  종합부동산세  재산세의 하나"
      ]
     },
     "execution_count": 10,
     "metadata": {},
     "output_type": "execute_result"
    }
   ],
=======
   "execution_count": null,
   "metadata": {},
   "outputs": [],
>>>>>>> 548974e7fdbe8e1ed83f2cc3e5a1d0f76e6afe2f
   "source": [
    "### DataFrame 형태로 변환 ###\n",
    "\n",
    "news_dic_df = DataFrame(news_dict).T\n",
    "news_dic_df[0]"
   ]
  },
  {
   "cell_type": "code",
   "execution_count": null,
   "metadata": {},
   "outputs": [],
   "source": []
  }
 ],
 "metadata": {
  "kernelspec": {
   "display_name": "Python 3 (ipykernel)",
   "language": "python",
   "name": "python3"
  },
  "language_info": {
   "codemirror_mode": {
    "name": "ipython",
    "version": 3
   },
   "file_extension": ".py",
   "mimetype": "text/x-python",
   "name": "python",
   "nbconvert_exporter": "python",
   "pygments_lexer": "ipython3",
   "version": "3.9.12"
  },
  "vscode": {
   "interpreter": {
    "hash": "c8d141e768b5e0bcaa8c20215d88d6d048813570bbe9856b9caec2a31fd5c4cf"
   }
  }
 },
 "nbformat": 4,
 "nbformat_minor": 2
}
