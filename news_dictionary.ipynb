{
 "cells": [
  {
   "cell_type": "code",
   "execution_count": 45,
   "metadata": {},
   "outputs": [],
   "source": [
    "import xlrd\n",
    "import sys\n",
    "import os\n",
    "import pandas\n",
    "from pandas import DataFrame"
   ]
  },
  {
   "cell_type": "code",
   "execution_count": 46,
   "metadata": {},
   "outputs": [
    {
     "name": "stdout",
     "output_type": "stream",
     "text": [
      "Columns\n",
      "Index(['순번', '주제', '용어', '설명'], dtype='object')\n"
     ]
    }
   ],
   "source": [
    "df = pandas.read_excel(\"dic.xls\")\n",
    "print(\"Columns\")\n",
    "print(df.columns)"
   ]
  },
  {
   "cell_type": "code",
   "execution_count": 47,
   "metadata": {},
   "outputs": [
    {
     "data": {
      "text/html": [
       "<div>\n",
       "<style scoped>\n",
       "    .dataframe tbody tr th:only-of-type {\n",
       "        vertical-align: middle;\n",
       "    }\n",
       "\n",
       "    .dataframe tbody tr th {\n",
       "        vertical-align: top;\n",
       "    }\n",
       "\n",
       "    .dataframe thead th {\n",
       "        text-align: right;\n",
       "    }\n",
       "</style>\n",
       "<table border=\"1\" class=\"dataframe\">\n",
       "  <thead>\n",
       "    <tr style=\"text-align: right;\">\n",
       "      <th></th>\n",
       "      <th>순번</th>\n",
       "      <th>주제</th>\n",
       "      <th>용어</th>\n",
       "      <th>설명</th>\n",
       "    </tr>\n",
       "  </thead>\n",
       "  <tbody>\n",
       "    <tr>\n",
       "      <th>0</th>\n",
       "      <td>1</td>\n",
       "      <td>사회</td>\n",
       "      <td>0.5인 가구</td>\n",
       "      <td>싱글족 가운데 두 곳 이상에 거처를 두거나 잦은 여행과 출장 등으로 오랫동안 집을 ...</td>\n",
       "    </tr>\n",
       "    <tr>\n",
       "      <th>1</th>\n",
       "      <td>2</td>\n",
       "      <td>경영</td>\n",
       "      <td>1인 창조기업</td>\n",
       "      <td>개인이 사장이면서 직원인 기업을 의미한다. 자신이 가진 '지식, 경험, 기술' 등을...</td>\n",
       "    </tr>\n",
       "    <tr>\n",
       "      <th>2</th>\n",
       "      <td>3</td>\n",
       "      <td>경제</td>\n",
       "      <td>1인당 국민소득</td>\n",
       "      <td>국민소득을 총국민 수로 나눈 값. 해당 국가의 소득 수준을 보여주는 가장 대표적인 ...</td>\n",
       "    </tr>\n",
       "    <tr>\n",
       "      <th>3</th>\n",
       "      <td>4</td>\n",
       "      <td>과학</td>\n",
       "      <td>20-20-20 계획</td>\n",
       "      <td>\\t유럽연합(EU)이 2020년까지 온실가스 20% 감축, 에너지효율 20% 개선,...</td>\n",
       "    </tr>\n",
       "    <tr>\n",
       "      <th>4</th>\n",
       "      <td>5</td>\n",
       "      <td>금융</td>\n",
       "      <td>2차 시장(Secondary Market)</td>\n",
       "      <td>2차 시장은 처음 발행된 증권, 채권 등이 거래되는 발행시장과 구분되며, 이미 발행...</td>\n",
       "    </tr>\n",
       "  </tbody>\n",
       "</table>\n",
       "</div>"
      ],
      "text/plain": [
       "   순번  주제                       용어  \\\n",
       "0   1  사회                  0.5인 가구   \n",
       "1   2  경영                  1인 창조기업   \n",
       "2   3  경제                 1인당 국민소득   \n",
       "3   4  과학              20-20-20 계획   \n",
       "4   5  금융  2차 시장(Secondary Market)   \n",
       "\n",
       "                                                  설명  \n",
       "0  싱글족 가운데 두 곳 이상에 거처를 두거나 잦은 여행과 출장 등으로 오랫동안 집을 ...  \n",
       "1  개인이 사장이면서 직원인 기업을 의미한다. 자신이 가진 '지식, 경험, 기술' 등을...  \n",
       "2  국민소득을 총국민 수로 나눈 값. 해당 국가의 소득 수준을 보여주는 가장 대표적인 ...  \n",
       "3  \\t유럽연합(EU)이 2020년까지 온실가스 20% 감축, 에너지효율 20% 개선,...  \n",
       "4  2차 시장은 처음 발행된 증권, 채권 등이 거래되는 발행시장과 구분되며, 이미 발행...  "
      ]
     },
     "execution_count": 47,
     "metadata": {},
     "output_type": "execute_result"
    }
   ],
   "source": [
    "df.head()"
   ]
  },
  {
   "cell_type": "markdown",
   "metadata": {},
   "source": [
    "#### 뽑은 시사 단어들 입력"
   ]
  },
  {
   "cell_type": "code",
   "execution_count": 48,
   "metadata": {},
   "outputs": [],
   "source": [
    "target_txt = \"\"\n",
    "# target_txt = sys.stdin.readline()"
   ]
  },
  {
   "cell_type": "code",
   "execution_count": 52,
   "metadata": {},
   "outputs": [
    {
     "data": {
      "text/plain": [
       "0                    0.5인 가구\n",
       "1                    1인 창조기업\n",
       "2                   1인당 국민소득\n",
       "3                20-20-20 계획\n",
       "4    2차 시장(Secondary Market)\n",
       "Name: 용어, dtype: object"
      ]
     },
     "execution_count": 52,
     "metadata": {},
     "output_type": "execute_result"
    }
   ],
   "source": [
    "df.iloc[:,2].head()"
   ]
  },
  {
   "cell_type": "code",
   "execution_count": 53,
   "metadata": {},
   "outputs": [
    {
     "data": {
      "text/plain": [
       "'0.5인 가구'"
      ]
     },
     "execution_count": 53,
     "metadata": {},
     "output_type": "execute_result"
    }
   ],
   "source": [
    "df.iloc[0,2]"
   ]
  },
  {
   "cell_type": "code",
   "execution_count": 54,
   "metadata": {},
   "outputs": [],
   "source": [
    "sample_txt = \"희망키움통장, 0.5인 가구, 히든챔피언 육성 프로그램\""
   ]
  },
  {
   "cell_type": "code",
   "execution_count": 56,
   "metadata": {},
   "outputs": [
    {
     "name": "stdout",
     "output_type": "stream",
     "text": [
      "0.5인 가구 :  싱글족 가운데 두 곳 이상에 거처를 두거나 잦은 여행과 출장 등으로 오랫동안 집을 비우는 사람들을 일컫는 말. 0.5인 가구는 1인 가구보다 집에 머무는 시간이 훨씬 더 짧다. 평소에는 직장 근처에 방을 얻어 혼자 살지만 주말에는 가족들의 거처로 찾아가 함께 시간을 보내는 경우도 여기에 속한다.\n",
      "희망키움통장 :  \t일하는 수급자가구와 비수급 근로빈곤층의 자활을 돕기 위한 자금. 기초생활보장 수급자가 취업해서 최저생계비의 60% 이상을 버는 경우, 월 30만원 가량을 희망키움통장에 적립해주기로 했다. 일정 기준 이상의 소득을 올릴 것을 전제함으로써 기초생활보장 수급자들이 정부의 저소득자에 대한 지원에 안주하려는 경향을 없애고 근로의욕을 고취시키기 위해 마련됐다. 희망키움통장은 기초생활 수급자를 벗어나는 조건으로 적립되는 금액이므로 2~3년내 기초생활 수급자 신분에서 벗어나지 못할 경우 적립액은 지급되지 않고 국고로 환수된다.\t\n",
      "히든챔피언 :  숨은 강소기업. 세계 시장점유율이 1~3위면서 일반에 잘 알려지지 않은 세계적인 경쟁력을 갖춘 기업을 말한다. 독일 경영학자 헤르만 지몬(Hermann Simon)이 내놓아 유명해졌다. 히든챔피언 기업의 선정조건은 ▲세계시장에서 1~3위를 차지하거나 대륙에서 1위를 차지 ▲매출액은 40억달러 이하 ▲대중에게 알려져 있지 않은 기업 등 3가지다.히든챔피언의 목표는 세계시장에서 1등이 되고 이를 유지하는 것이다. 히든챔피언 기업의 공통된 특성은 다음과 같다. 먼저 한 분야의 전문가로 시장을 좁게 정의하고 있으며 세계화에 공을 들인다. 또 아웃소싱을 하되 연구개발(R&D) 등 핵심역량은 직접 수행한다. 고객 친밀성이 높아 VIP 고객들과 밀접한 관계를 구축하고, 기업문화는 직원에게 일체감과 동기를 부여하는 문화이며 경영자는 기본가치를 중시하고 장기 재직하는 경우가 많다. 한편 정부는 중소기업보다는 크지만 대기업에는 미치지 못하는 중간 크기의 기업들을 중견기업으로 법제화해 이들이 글로벌 시장을 누비는 히든 챔피언으로 성장할 수 있도록 금융 및 세제 혜택을 주는 방안을 마련하고 있다.\n",
      "히든챔피언 육성 프로그램 :  \t독자적 기술력을 갖추고 성장잠재력이 있는 시장을 기반으로 하는 중소기업을 향후 글로벌 중견기업으로 키우고자 한국수출입은행이 지난 2009년부터 도입한 사업.\t\n"
     ]
    }
   ],
   "source": [
    "news_dict = {}\n",
    "\n",
    "for idx, i in enumerate(df.iloc[:, 2]):\n",
    "    if i in sample_txt:\n",
    "        print(i, ': ', df.iloc[idx,3])\n",
    "        news_dict[i] = {'단어': i,\n",
    "                        '의미': df.iloc[idx,3]}"
   ]
  },
  {
   "cell_type": "markdown",
   "metadata": {},
   "source": [
    "#### DataFrame 저장"
   ]
  },
  {
   "cell_type": "code",
   "execution_count": 58,
   "metadata": {},
   "outputs": [
    {
     "data": {
      "text/html": [
       "<div>\n",
       "<style scoped>\n",
       "    .dataframe tbody tr th:only-of-type {\n",
       "        vertical-align: middle;\n",
       "    }\n",
       "\n",
       "    .dataframe tbody tr th {\n",
       "        vertical-align: top;\n",
       "    }\n",
       "\n",
       "    .dataframe thead th {\n",
       "        text-align: right;\n",
       "    }\n",
       "</style>\n",
       "<table border=\"1\" class=\"dataframe\">\n",
       "  <thead>\n",
       "    <tr style=\"text-align: right;\">\n",
       "      <th></th>\n",
       "      <th>단어</th>\n",
       "      <th>의미</th>\n",
       "    </tr>\n",
       "  </thead>\n",
       "  <tbody>\n",
       "    <tr>\n",
       "      <th>0.5인 가구</th>\n",
       "      <td>0.5인 가구</td>\n",
       "      <td>싱글족 가운데 두 곳 이상에 거처를 두거나 잦은 여행과 출장 등으로 오랫동안 집을 ...</td>\n",
       "    </tr>\n",
       "    <tr>\n",
       "      <th>희망키움통장</th>\n",
       "      <td>희망키움통장</td>\n",
       "      <td>\\t일하는 수급자가구와 비수급 근로빈곤층의 자활을 돕기 위한 자금. 기초생활보장 수...</td>\n",
       "    </tr>\n",
       "    <tr>\n",
       "      <th>히든챔피언</th>\n",
       "      <td>히든챔피언</td>\n",
       "      <td>숨은 강소기업. 세계 시장점유율이 1~3위면서 일반에 잘 알려지지 않은 세계적인 경...</td>\n",
       "    </tr>\n",
       "    <tr>\n",
       "      <th>히든챔피언 육성 프로그램</th>\n",
       "      <td>히든챔피언 육성 프로그램</td>\n",
       "      <td>\\t독자적 기술력을 갖추고 성장잠재력이 있는 시장을 기반으로 하는 중소기업을 향후 ...</td>\n",
       "    </tr>\n",
       "  </tbody>\n",
       "</table>\n",
       "</div>"
      ],
      "text/plain": [
       "                          단어  \\\n",
       "0.5인 가구              0.5인 가구   \n",
       "희망키움통장                희망키움통장   \n",
       "히든챔피언                  히든챔피언   \n",
       "히든챔피언 육성 프로그램  히든챔피언 육성 프로그램   \n",
       "\n",
       "                                                              의미  \n",
       "0.5인 가구        싱글족 가운데 두 곳 이상에 거처를 두거나 잦은 여행과 출장 등으로 오랫동안 집을 ...  \n",
       "희망키움통장         \\t일하는 수급자가구와 비수급 근로빈곤층의 자활을 돕기 위한 자금. 기초생활보장 수...  \n",
       "히든챔피언          숨은 강소기업. 세계 시장점유율이 1~3위면서 일반에 잘 알려지지 않은 세계적인 경...  \n",
       "히든챔피언 육성 프로그램  \\t독자적 기술력을 갖추고 성장잠재력이 있는 시장을 기반으로 하는 중소기업을 향후 ...  "
      ]
     },
     "execution_count": 58,
     "metadata": {},
     "output_type": "execute_result"
    }
   ],
   "source": [
    "### DataFrame 형태로 변환 ###\n",
    "\n",
    "news_dic_df = DataFrame(news_dict).T\n",
    "news_dic_df"
   ]
  }
 ],
 "metadata": {
  "kernelspec": {
   "display_name": "Python 3.8.13 ('flyai')",
   "language": "python",
   "name": "python3"
  },
  "language_info": {
   "codemirror_mode": {
    "name": "ipython",
    "version": 3
   },
   "file_extension": ".py",
   "mimetype": "text/x-python",
   "name": "python",
   "nbconvert_exporter": "python",
   "pygments_lexer": "ipython3",
   "version": "3.8.13"
  },
  "orig_nbformat": 4,
  "vscode": {
   "interpreter": {
    "hash": "05f38fae6964912dbf856b0c48adf31d507346f4ca0618e5812f16ba95377c22"
   }
  }
 },
 "nbformat": 4,
 "nbformat_minor": 2
}
